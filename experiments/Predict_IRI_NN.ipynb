{
 "cells": [
  {
   "cell_type": "code",
   "execution_count": 1,
   "metadata": {},
   "outputs": [],
   "source": [
    "import numpy as np\n",
    "import pandas as pd\n",
    "import matplotlib.pyplot as plt\n",
    "import os\n",
    "from sklearn.model_selection import train_test_split\n",
    "from make_datasets import create_dataset"
   ]
  },
  {
   "cell_type": "markdown",
   "metadata": {},
   "source": [
    "### Making syntethic data"
   ]
  },
  {
   "cell_type": "code",
   "execution_count": 2,
   "metadata": {},
   "outputs": [
    {
     "name": "stdout",
     "output_type": "stream",
     "text": [
      "CPU times: user 1min 26s, sys: 53.1 s, total: 2min 19s\n",
      "Wall time: 37.5 s\n"
     ]
    }
   ],
   "source": [
    "%%time\n",
    "\n",
    "dataset = {'acc_var': [], 'acc_max': [], 'Velocity': [], 'Length': [], 'Deltas': [], 'IRI': []}\n",
    "\n",
    "N = 300\n",
    "vels = np.linspace(10, 40, N)\n",
    "length = 50\n",
    "sample_rate = 100\n",
    "#vel = 25\n",
    "dx = 0.1\n",
    "\n",
    "profiles = {}\n",
    "for prof_type in ['A', 'B', 'C']:\n",
    "    profiles[prof_type] =  {\n",
    "        \"num_profiles\": N,\n",
    "        \"deltas\": [dx]*N,\n",
    "        \"lengths\": [length]*N,\n",
    "        \"seeds\": np.arange(N),\n",
    "        \"velocities\": vels, \n",
    "        \"sample_rates\": [sample_rate]*N\n",
    "        }\n",
    "\n",
    "rps, accs, iris = create_dataset(profiles)\n",
    "\n",
    "\n",
    "dataset['Velocity'] = list(vels) * 3\n",
    "dataset['Deltas'] = dx\n",
    "dataset['Length'] = length\n",
    "\n",
    "\n",
    "dataset['IRI'] = iris\n",
    "\n",
    "for p in accs:\n",
    "    dataset['acc_var'].append(np.var(p))\n",
    "    dataset['acc_max'].append(np.max(p))\n",
    "\n",
    "\n",
    "dataset = pd.DataFrame(dataset)\n",
    "    \n"
   ]
  },
  {
   "cell_type": "code",
   "execution_count": 3,
   "metadata": {},
   "outputs": [
    {
     "data": {
      "text/html": [
       "<div>\n",
       "<style scoped>\n",
       "    .dataframe tbody tr th:only-of-type {\n",
       "        vertical-align: middle;\n",
       "    }\n",
       "\n",
       "    .dataframe tbody tr th {\n",
       "        vertical-align: top;\n",
       "    }\n",
       "\n",
       "    .dataframe thead th {\n",
       "        text-align: right;\n",
       "    }\n",
       "</style>\n",
       "<table border=\"1\" class=\"dataframe\">\n",
       "  <thead>\n",
       "    <tr style=\"text-align: right;\">\n",
       "      <th></th>\n",
       "      <th>acc_var</th>\n",
       "      <th>acc_max</th>\n",
       "      <th>Velocity</th>\n",
       "      <th>Length</th>\n",
       "      <th>Deltas</th>\n",
       "      <th>IRI</th>\n",
       "    </tr>\n",
       "  </thead>\n",
       "  <tbody>\n",
       "    <tr>\n",
       "      <th>0</th>\n",
       "      <td>0.170230</td>\n",
       "      <td>3.565651</td>\n",
       "      <td>10.000000</td>\n",
       "      <td>50</td>\n",
       "      <td>0.1</td>\n",
       "      <td>2.597274</td>\n",
       "    </tr>\n",
       "    <tr>\n",
       "      <th>1</th>\n",
       "      <td>0.100043</td>\n",
       "      <td>0.714267</td>\n",
       "      <td>10.100334</td>\n",
       "      <td>50</td>\n",
       "      <td>0.1</td>\n",
       "      <td>2.124137</td>\n",
       "    </tr>\n",
       "    <tr>\n",
       "      <th>2</th>\n",
       "      <td>0.105082</td>\n",
       "      <td>2.652706</td>\n",
       "      <td>10.200669</td>\n",
       "      <td>50</td>\n",
       "      <td>0.1</td>\n",
       "      <td>1.914638</td>\n",
       "    </tr>\n",
       "    <tr>\n",
       "      <th>3</th>\n",
       "      <td>0.128463</td>\n",
       "      <td>1.252770</td>\n",
       "      <td>10.301003</td>\n",
       "      <td>50</td>\n",
       "      <td>0.1</td>\n",
       "      <td>2.570281</td>\n",
       "    </tr>\n",
       "    <tr>\n",
       "      <th>4</th>\n",
       "      <td>0.073721</td>\n",
       "      <td>0.876858</td>\n",
       "      <td>10.401338</td>\n",
       "      <td>50</td>\n",
       "      <td>0.1</td>\n",
       "      <td>1.777799</td>\n",
       "    </tr>\n",
       "  </tbody>\n",
       "</table>\n",
       "</div>"
      ],
      "text/plain": [
       "    acc_var   acc_max   Velocity  Length  Deltas       IRI\n",
       "0  0.170230  3.565651  10.000000      50     0.1  2.597274\n",
       "1  0.100043  0.714267  10.100334      50     0.1  2.124137\n",
       "2  0.105082  2.652706  10.200669      50     0.1  1.914638\n",
       "3  0.128463  1.252770  10.301003      50     0.1  2.570281\n",
       "4  0.073721  0.876858  10.401338      50     0.1  1.777799"
      ]
     },
     "execution_count": 3,
     "metadata": {},
     "output_type": "execute_result"
    }
   ],
   "source": [
    "dataset.head()"
   ]
  },
  {
   "cell_type": "code",
   "execution_count": 4,
   "metadata": {},
   "outputs": [
    {
     "data": {
      "text/plain": [
       "<matplotlib.collections.PathCollection at 0x7fa0c8a5a990>"
      ]
     },
     "execution_count": 4,
     "metadata": {},
     "output_type": "execute_result"
    },
    {
     "data": {
      "image/png": "[encoded data removed]",
      "text/plain": [
       "<Figure size 432x288 with 1 Axes>"
      ]
     },
     "metadata": {
      "needs_background": "light"
     },
     "output_type": "display_data"
    }
   ],
   "source": [
    "plt.scatter(dataset['acc_var'], dataset['acc_max'], c = dataset['IRI'])"
   ]
  },
  {
   "cell_type": "markdown",
   "metadata": {},
   "source": [
    "### Training"
   ]
  },
  {
   "cell_type": "code",
   "execution_count": 5,
   "metadata": {},
   "outputs": [
    {
     "data": {
      "text/plain": [
       "(720, 3)"
      ]
     },
     "execution_count": 5,
     "metadata": {},
     "output_type": "execute_result"
    }
   ],
   "source": [
    "X = dataset.values[:, :3]\n",
    "y = dataset['IRI'].values\n",
    "\n",
    "X, X_valid, y, y_valid = train_test_split(X, y, test_size=0.2)\n",
    "X.shape"
   ]
  },
  {
   "cell_type": "code",
   "execution_count": null,
   "metadata": {},
   "outputs": [],
   "source": [
    "# wouldn't it be nice to restrict the output to be between 0 and say 11? tf doesn't think so...\n",
    "from keras import backend as K\n",
    "\n",
    "def relu10(x):\n",
    "    if x <= 11:\n",
    "        return K.relu(x)\n",
    "    else:\n",
    "        return 11 "
   ]
  },
  {
   "cell_type": "code",
   "execution_count": 15,
   "metadata": {},
   "outputs": [
    {
     "name": "stdout",
     "output_type": "stream",
     "text": [
      "2 0 8.479363441467285\n",
      "2 1 2.5783305168151855\n",
      "2 2 9.170891761779785\n",
      "2 3 15.889911651611328\n",
      "2 4 5.554978370666504\n",
      "\n",
      "4 0 5.271590232849121\n",
      "4 1 4.858781814575195\n",
      "4 2 1.007124423980713\n",
      "4 3 1.7062833309173584\n",
      "4 4 1.0012272596359253\n",
      "\n",
      "8 0 1.0106940269470215\n",
      "8 1 0.6766365766525269\n",
      "8 2 1.2424328327178955\n",
      "8 3 1.1957656145095825\n",
      "8 4 0.6556053161621094\n",
      "\n",
      "16 0 0.6293732523918152\n",
      "16 1 0.6562834978103638\n",
      "16 2 0.4359016716480255\n",
      "16 3 0.4443903863430023\n",
      "16 4 0.41385141015052795\n",
      "\n",
      "32 0 0.6309981346130371\n",
      "32 1 0.3690541982650757\n",
      "32 2 0.4157947301864624\n",
      "32 3 0.4869794249534607\n",
      "32 4 0.4536842703819275\n",
      "\n",
      "64 0 0.5320672988891602\n",
      "64 1 0.34326308965682983\n",
      "64 2 0.3295327425003052\n",
      "64 3 0.45766013860702515\n",
      "64 4 0.4554550349712372\n",
      "\n",
      "128 0 0.4708666205406189\n",
      "128 1 0.2973495125770569\n",
      "128 2 0.31052106618881226\n",
      "128 3 0.46490907669067383\n",
      "128 4 0.4413113594055176\n",
      "\n",
      "256 0 0.4782739281654358\n",
      "256 1 0.2779054045677185\n",
      "256 2 0.2867799401283264\n",
      "256 3 0.5418910980224609\n",
      "256 4 0.4383369982242584\n",
      "\n",
      "564 0 0.41587314009666443\n",
      "564 1 0.26772505044937134\n",
      "564 2 0.31081530451774597\n",
      "564 3 0.3194873034954071\n",
      "564 4 0.4370911419391632\n",
      "\n"
     ]
    }
   ],
   "source": [
    "from keras.models import Sequential\n",
    "from keras.layers import Dense\n",
    "from keras.optimizers import Adam, SGD\n",
    "from keras.callbacks import EarlyStopping\n",
    "\n",
    "from sklearn.model_selection import KFold\n",
    "\n",
    "models1 = {'neurons_layer1': [], 'k': [], 'error': []}\n",
    "\n",
    "es = EarlyStopping(monitor='val_loss', mode='min', min_delta = 0.001, patience = 10, verbose=0)\n",
    "\n",
    "\n",
    "for n1 in [2, 4, 8, 16, 32, 64, 128, 256, 564]:\n",
    "    \n",
    "    k = 0\n",
    "    for train_index,test_index in KFold(5).split(X):\n",
    "        \n",
    "        X_train, X_valid = X[train_index], X[test_index]\n",
    "        y_train, y_valid = y[train_index], y[test_index]\n",
    "        \n",
    "        model1 = Sequential([\n",
    "            Dense(n1, activation = 'sigmoid', kernel_initializer='he_normal'),\n",
    "            Dense(1, activation = 'linear', kernel_initializer='he_normal') \n",
    "        ])\n",
    "        model1.compile(loss = 'mean_squared_error', optimizer = 'adam')\n",
    "       \n",
    "        history = model1.fit(X_train, y_train, validation_data = (X_valid, y_valid), \n",
    "                             epochs = 1000, batch_size = 500, verbose=0, callbacks = [es])\n",
    "\n",
    "        print(n1, k, history.history['val_loss'][-1])\n",
    "        models1['neurons_layer1'].append(n1)\n",
    "        models1['k'].append(k)\n",
    "        models1['error'].append(history.history['val_loss'][-1])\n",
    "        \n",
    "        k += 1\n",
    "        \n",
    "    print()\n",
    "    \n",
    "models1 = pd.DataFrame(models1)"
   ]
  },
  {
   "cell_type": "code",
   "execution_count": 12,
   "metadata": {},
   "outputs": [
    {
     "data": {
      "text/html": [
       "<div>\n",
       "<style scoped>\n",
       "    .dataframe tbody tr th:only-of-type {\n",
       "        vertical-align: middle;\n",
       "    }\n",
       "\n",
       "    .dataframe tbody tr th {\n",
       "        vertical-align: top;\n",
       "    }\n",
       "\n",
       "    .dataframe thead th {\n",
       "        text-align: right;\n",
       "    }\n",
       "</style>\n",
       "<table border=\"1\" class=\"dataframe\">\n",
       "  <thead>\n",
       "    <tr style=\"text-align: right;\">\n",
       "      <th></th>\n",
       "      <th>k</th>\n",
       "      <th>error</th>\n",
       "      <th>avg_error</th>\n",
       "    </tr>\n",
       "    <tr>\n",
       "      <th>neurons_layer1</th>\n",
       "      <th></th>\n",
       "      <th></th>\n",
       "      <th></th>\n",
       "    </tr>\n",
       "  </thead>\n",
       "  <tbody>\n",
       "    <tr>\n",
       "      <th>2</th>\n",
       "      <td>10</td>\n",
       "      <td>7.741199</td>\n",
       "      <td>7.644125</td>\n",
       "    </tr>\n",
       "    <tr>\n",
       "      <th>4</th>\n",
       "      <td>10</td>\n",
       "      <td>10.184776</td>\n",
       "      <td>4.016271</td>\n",
       "    </tr>\n",
       "    <tr>\n",
       "      <th>8</th>\n",
       "      <td>10</td>\n",
       "      <td>0.320282</td>\n",
       "      <td>1.387810</td>\n",
       "    </tr>\n",
       "    <tr>\n",
       "      <th>16</th>\n",
       "      <td>10</td>\n",
       "      <td>0.009035</td>\n",
       "      <td>0.524174</td>\n",
       "    </tr>\n",
       "    <tr>\n",
       "      <th>32</th>\n",
       "      <td>10</td>\n",
       "      <td>0.006578</td>\n",
       "      <td>0.464746</td>\n",
       "    </tr>\n",
       "    <tr>\n",
       "      <th>64</th>\n",
       "      <td>10</td>\n",
       "      <td>0.008602</td>\n",
       "      <td>0.415213</td>\n",
       "    </tr>\n",
       "    <tr>\n",
       "      <th>128</th>\n",
       "      <td>10</td>\n",
       "      <td>0.014765</td>\n",
       "      <td>0.404158</td>\n",
       "    </tr>\n",
       "    <tr>\n",
       "      <th>256</th>\n",
       "      <td>10</td>\n",
       "      <td>0.017163</td>\n",
       "      <td>0.401869</td>\n",
       "    </tr>\n",
       "    <tr>\n",
       "      <th>564</th>\n",
       "      <td>10</td>\n",
       "      <td>0.011411</td>\n",
       "      <td>0.386691</td>\n",
       "    </tr>\n",
       "  </tbody>\n",
       "</table>\n",
       "</div>"
      ],
      "text/plain": [
       "                 k      error  avg_error\n",
       "neurons_layer1                          \n",
       "2               10   7.741199   7.644125\n",
       "4               10  10.184776   4.016271\n",
       "8               10   0.320282   1.387810\n",
       "16              10   0.009035   0.524174\n",
       "32              10   0.006578   0.464746\n",
       "64              10   0.008602   0.415213\n",
       "128             10   0.014765   0.404158\n",
       "256             10   0.017163   0.401869\n",
       "564             10   0.011411   0.386691"
      ]
     },
     "execution_count": 12,
     "metadata": {},
     "output_type": "execute_result"
    }
   ],
   "source": [
    "f = {'k': lambda x: 10, 'error': np.var, 'avg_error': np.mean}\n",
    "models1['avg_error'] = models1['error']\n",
    "models_groupped = models1.groupby(by = 'neurons_layer1').aggregate(f)\n",
    "models_groupped"
   ]
  },
  {
   "cell_type": "code",
   "execution_count": 16,
   "metadata": {},
   "outputs": [
    {
     "data": {
      "image/png": "[encoded data removed]",
      "text/plain": [
       "<Figure size 432x288 with 1 Axes>"
      ]
     },
     "metadata": {
      "needs_background": "light"
     },
     "output_type": "display_data"
    },
    {
     "data": {
      "text/plain": [
       "0.4370911419391632"
      ]
     },
     "execution_count": 16,
     "metadata": {},
     "output_type": "execute_result"
    }
   ],
   "source": [
    "plt.plot(history.history['loss'], label = 'loss')\n",
    "plt.plot(history.history['val_loss'], label = 'val_loss')\n",
    "plt.legend()\n",
    "plt.ylim((0, max(history.history['val_loss']) + 10))\n",
    "plt.show()\n",
    "\n",
    "history.history['val_loss'][-1]\n"
   ]
  },
  {
   "cell_type": "code",
   "execution_count": 20,
   "metadata": {},
   "outputs": [
    {
     "data": {
      "text/html": [
       "<div>\n",
       "<style scoped>\n",
       "    .dataframe tbody tr th:only-of-type {\n",
       "        vertical-align: middle;\n",
       "    }\n",
       "\n",
       "    .dataframe tbody tr th {\n",
       "        vertical-align: top;\n",
       "    }\n",
       "\n",
       "    .dataframe thead th {\n",
       "        text-align: right;\n",
       "    }\n",
       "</style>\n",
       "<table border=\"1\" class=\"dataframe\">\n",
       "  <thead>\n",
       "    <tr style=\"text-align: right;\">\n",
       "      <th></th>\n",
       "      <th>Preds</th>\n",
       "      <th>y_true</th>\n",
       "      <th>Preds_mapped</th>\n",
       "      <th>Difference</th>\n",
       "    </tr>\n",
       "  </thead>\n",
       "  <tbody>\n",
       "    <tr>\n",
       "      <th>3</th>\n",
       "      <td>9.072009</td>\n",
       "      <td>10.281124</td>\n",
       "      <td>9.072009</td>\n",
       "      <td>1.209115</td>\n",
       "    </tr>\n",
       "    <tr>\n",
       "      <th>18</th>\n",
       "      <td>4.108047</td>\n",
       "      <td>5.220596</td>\n",
       "      <td>4.108047</td>\n",
       "      <td>1.112549</td>\n",
       "    </tr>\n",
       "    <tr>\n",
       "      <th>35</th>\n",
       "      <td>8.378351</td>\n",
       "      <td>10.441192</td>\n",
       "      <td>8.378351</td>\n",
       "      <td>2.062841</td>\n",
       "    </tr>\n",
       "    <tr>\n",
       "      <th>38</th>\n",
       "      <td>9.668070</td>\n",
       "      <td>8.345414</td>\n",
       "      <td>9.668070</td>\n",
       "      <td>1.322656</td>\n",
       "    </tr>\n",
       "    <tr>\n",
       "      <th>47</th>\n",
       "      <td>9.369489</td>\n",
       "      <td>7.497895</td>\n",
       "      <td>9.369489</td>\n",
       "      <td>1.871594</td>\n",
       "    </tr>\n",
       "    <tr>\n",
       "      <th>55</th>\n",
       "      <td>11.111679</td>\n",
       "      <td>7.981176</td>\n",
       "      <td>11.000000</td>\n",
       "      <td>3.018824</td>\n",
       "    </tr>\n",
       "    <tr>\n",
       "      <th>56</th>\n",
       "      <td>9.793056</td>\n",
       "      <td>11.005334</td>\n",
       "      <td>9.793056</td>\n",
       "      <td>1.212279</td>\n",
       "    </tr>\n",
       "    <tr>\n",
       "      <th>70</th>\n",
       "      <td>8.588519</td>\n",
       "      <td>9.608107</td>\n",
       "      <td>8.588519</td>\n",
       "      <td>1.019588</td>\n",
       "    </tr>\n",
       "    <tr>\n",
       "      <th>79</th>\n",
       "      <td>11.049050</td>\n",
       "      <td>9.434977</td>\n",
       "      <td>11.000000</td>\n",
       "      <td>1.565023</td>\n",
       "    </tr>\n",
       "    <tr>\n",
       "      <th>81</th>\n",
       "      <td>8.521260</td>\n",
       "      <td>7.233253</td>\n",
       "      <td>8.521260</td>\n",
       "      <td>1.288007</td>\n",
       "    </tr>\n",
       "    <tr>\n",
       "      <th>85</th>\n",
       "      <td>7.704623</td>\n",
       "      <td>9.121496</td>\n",
       "      <td>7.704623</td>\n",
       "      <td>1.416873</td>\n",
       "    </tr>\n",
       "    <tr>\n",
       "      <th>86</th>\n",
       "      <td>9.463021</td>\n",
       "      <td>10.779304</td>\n",
       "      <td>9.463021</td>\n",
       "      <td>1.316283</td>\n",
       "    </tr>\n",
       "    <tr>\n",
       "      <th>92</th>\n",
       "      <td>8.539164</td>\n",
       "      <td>9.724813</td>\n",
       "      <td>8.539164</td>\n",
       "      <td>1.185650</td>\n",
       "    </tr>\n",
       "    <tr>\n",
       "      <th>93</th>\n",
       "      <td>8.677428</td>\n",
       "      <td>7.598115</td>\n",
       "      <td>8.677428</td>\n",
       "      <td>1.079314</td>\n",
       "    </tr>\n",
       "    <tr>\n",
       "      <th>110</th>\n",
       "      <td>4.317075</td>\n",
       "      <td>3.252814</td>\n",
       "      <td>4.317075</td>\n",
       "      <td>1.064261</td>\n",
       "    </tr>\n",
       "    <tr>\n",
       "      <th>117</th>\n",
       "      <td>7.977551</td>\n",
       "      <td>8.980996</td>\n",
       "      <td>7.977551</td>\n",
       "      <td>1.003445</td>\n",
       "    </tr>\n",
       "    <tr>\n",
       "      <th>128</th>\n",
       "      <td>4.957621</td>\n",
       "      <td>3.748947</td>\n",
       "      <td>4.957621</td>\n",
       "      <td>1.208674</td>\n",
       "    </tr>\n",
       "  </tbody>\n",
       "</table>\n",
       "</div>"
      ],
      "text/plain": [
       "         Preds     y_true  Preds_mapped  Difference\n",
       "3     9.072009  10.281124      9.072009    1.209115\n",
       "18    4.108047   5.220596      4.108047    1.112549\n",
       "35    8.378351  10.441192      8.378351    2.062841\n",
       "38    9.668070   8.345414      9.668070    1.322656\n",
       "47    9.369489   7.497895      9.369489    1.871594\n",
       "55   11.111679   7.981176     11.000000    3.018824\n",
       "56    9.793056  11.005334      9.793056    1.212279\n",
       "70    8.588519   9.608107      8.588519    1.019588\n",
       "79   11.049050   9.434977     11.000000    1.565023\n",
       "81    8.521260   7.233253      8.521260    1.288007\n",
       "85    7.704623   9.121496      7.704623    1.416873\n",
       "86    9.463021  10.779304      9.463021    1.316283\n",
       "92    8.539164   9.724813      8.539164    1.185650\n",
       "93    8.677428   7.598115      8.677428    1.079314\n",
       "110   4.317075   3.252814      4.317075    1.064261\n",
       "117   7.977551   8.980996      7.977551    1.003445\n",
       "128   4.957621   3.748947      4.957621    1.208674"
      ]
     },
     "execution_count": 20,
     "metadata": {},
     "output_type": "execute_result"
    }
   ],
   "source": [
    "evaluate = pd.DataFrame({'Preds': model1.predict(X_valid).reshape(len(X_valid)), 'y_true': y_valid})\n",
    "evaluate['Preds_mapped'] = evaluate['Preds'].apply(lambda x: x if x > 0 and x < 11 else 11)\n",
    "evaluate['Difference'] = np.absolute(evaluate['Preds_mapped']-evaluate['y_true'])\n",
    "evaluate.loc[evaluate['Difference'] > 1]\n",
    "\n",
    "\n"
   ]
  },
  {
   "cell_type": "code",
   "execution_count": null,
   "metadata": {},
   "outputs": [],
   "source": []
  },
  {
   "cell_type": "code",
   "execution_count": 9,
   "metadata": {},
   "outputs": [
    {
     "name": "stdout",
     "output_type": "stream",
     "text": [
      "2 2 0 3.0658111572265625\n",
      "2 2 1 17.45435333251953\n"
     ]
    },
    {
     "ename": "KeyboardInterrupt",
     "evalue": "",
     "output_type": "error",
     "traceback": [
      "\u001b[0;31m---------------------------------------------------------------------------\u001b[0m",
      "\u001b[0;31mKeyboardInterrupt\u001b[0m                         Traceback (most recent call last)",
      "\u001b[0;32m<ipython-input-9-e27c644f0b8a>\u001b[0m in \u001b[0;36m<module>\u001b[0;34m()\u001b[0m\n\u001b[1;32m     20\u001b[0m \u001b[0;34m\u001b[0m\u001b[0m\n\u001b[1;32m     21\u001b[0m             history = model1.fit(X_train, y_train, validation_data = (X_valid, y_valid), \n\u001b[0;32m---> 22\u001b[0;31m                                  epochs = 1000, batch_size = 500, verbose=0, callbacks = [es])\n\u001b[0m\u001b[1;32m     23\u001b[0m \u001b[0;34m\u001b[0m\u001b[0m\n\u001b[1;32m     24\u001b[0m             \u001b[0mprint\u001b[0m\u001b[0;34m(\u001b[0m\u001b[0mn1\u001b[0m\u001b[0;34m,\u001b[0m \u001b[0mn2\u001b[0m\u001b[0;34m,\u001b[0m \u001b[0mk\u001b[0m\u001b[0;34m,\u001b[0m \u001b[0mhistory\u001b[0m\u001b[0;34m.\u001b[0m\u001b[0mhistory\u001b[0m\u001b[0;34m[\u001b[0m\u001b[0;34m'val_loss'\u001b[0m\u001b[0;34m]\u001b[0m\u001b[0;34m[\u001b[0m\u001b[0;34m-\u001b[0m\u001b[0;36m1\u001b[0m\u001b[0;34m]\u001b[0m\u001b[0;34m)\u001b[0m\u001b[0;34m\u001b[0m\u001b[0;34m\u001b[0m\u001b[0m\n",
      "\u001b[0;32m/home/annareisz/.local/lib/python3.7/site-packages/keras/engine/training.py\u001b[0m in \u001b[0;36mfit\u001b[0;34m(self, x, y, batch_size, epochs, verbose, callbacks, validation_split, validation_data, shuffle, class_weight, sample_weight, initial_epoch, steps_per_epoch, validation_steps, validation_freq, max_queue_size, workers, use_multiprocessing, **kwargs)\u001b[0m\n\u001b[1;32m   1237\u001b[0m                                         \u001b[0msteps_per_epoch\u001b[0m\u001b[0;34m=\u001b[0m\u001b[0msteps_per_epoch\u001b[0m\u001b[0;34m,\u001b[0m\u001b[0;34m\u001b[0m\u001b[0;34m\u001b[0m\u001b[0m\n\u001b[1;32m   1238\u001b[0m                                         \u001b[0mvalidation_steps\u001b[0m\u001b[0;34m=\u001b[0m\u001b[0mvalidation_steps\u001b[0m\u001b[0;34m,\u001b[0m\u001b[0;34m\u001b[0m\u001b[0;34m\u001b[0m\u001b[0m\n\u001b[0;32m-> 1239\u001b[0;31m                                         validation_freq=validation_freq)\n\u001b[0m\u001b[1;32m   1240\u001b[0m \u001b[0;34m\u001b[0m\u001b[0m\n\u001b[1;32m   1241\u001b[0m     def evaluate(self,\n",
      "\u001b[0;32m/home/annareisz/.local/lib/python3.7/site-packages/keras/engine/training_arrays.py\u001b[0m in \u001b[0;36mfit_loop\u001b[0;34m(model, fit_function, fit_inputs, out_labels, batch_size, epochs, verbose, callbacks, val_function, val_inputs, shuffle, initial_epoch, steps_per_epoch, validation_steps, validation_freq)\u001b[0m\n\u001b[1;32m    199\u001b[0m                     \u001b[0mbatch_logs\u001b[0m\u001b[0;34m[\u001b[0m\u001b[0ml\u001b[0m\u001b[0;34m]\u001b[0m \u001b[0;34m=\u001b[0m \u001b[0mo\u001b[0m\u001b[0;34m\u001b[0m\u001b[0;34m\u001b[0m\u001b[0m\n\u001b[1;32m    200\u001b[0m \u001b[0;34m\u001b[0m\u001b[0m\n\u001b[0;32m--> 201\u001b[0;31m                 \u001b[0mcallbacks\u001b[0m\u001b[0;34m.\u001b[0m\u001b[0m_call_batch_hook\u001b[0m\u001b[0;34m(\u001b[0m\u001b[0;34m'train'\u001b[0m\u001b[0;34m,\u001b[0m \u001b[0;34m'end'\u001b[0m\u001b[0;34m,\u001b[0m \u001b[0mbatch_index\u001b[0m\u001b[0;34m,\u001b[0m \u001b[0mbatch_logs\u001b[0m\u001b[0;34m)\u001b[0m\u001b[0;34m\u001b[0m\u001b[0;34m\u001b[0m\u001b[0m\n\u001b[0m\u001b[1;32m    202\u001b[0m                 \u001b[0;32mif\u001b[0m \u001b[0mcallbacks\u001b[0m\u001b[0;34m.\u001b[0m\u001b[0mmodel\u001b[0m\u001b[0;34m.\u001b[0m\u001b[0mstop_training\u001b[0m\u001b[0;34m:\u001b[0m\u001b[0;34m\u001b[0m\u001b[0;34m\u001b[0m\u001b[0m\n\u001b[1;32m    203\u001b[0m                     \u001b[0;32mbreak\u001b[0m\u001b[0;34m\u001b[0m\u001b[0;34m\u001b[0m\u001b[0m\n",
      "\u001b[0;32m/home/annareisz/.local/lib/python3.7/site-packages/keras/callbacks/callbacks.py\u001b[0m in \u001b[0;36m_call_batch_hook\u001b[0;34m(self, mode, hook, batch, logs)\u001b[0m\n\u001b[1;32m     86\u001b[0m         \u001b[0mself\u001b[0m\u001b[0;34m.\u001b[0m\u001b[0m_delta_ts\u001b[0m\u001b[0;34m[\u001b[0m\u001b[0mhook_name\u001b[0m\u001b[0;34m]\u001b[0m\u001b[0;34m.\u001b[0m\u001b[0mappend\u001b[0m\u001b[0;34m(\u001b[0m\u001b[0mtime\u001b[0m\u001b[0;34m.\u001b[0m\u001b[0mtime\u001b[0m\u001b[0;34m(\u001b[0m\u001b[0;34m)\u001b[0m \u001b[0;34m-\u001b[0m \u001b[0mt_before_callbacks\u001b[0m\u001b[0;34m)\u001b[0m\u001b[0;34m\u001b[0m\u001b[0;34m\u001b[0m\u001b[0m\n\u001b[1;32m     87\u001b[0m \u001b[0;34m\u001b[0m\u001b[0m\n\u001b[0;32m---> 88\u001b[0;31m         \u001b[0mdelta_t_median\u001b[0m \u001b[0;34m=\u001b[0m \u001b[0mnp\u001b[0m\u001b[0;34m.\u001b[0m\u001b[0mmedian\u001b[0m\u001b[0;34m(\u001b[0m\u001b[0mself\u001b[0m\u001b[0;34m.\u001b[0m\u001b[0m_delta_ts\u001b[0m\u001b[0;34m[\u001b[0m\u001b[0mhook_name\u001b[0m\u001b[0;34m]\u001b[0m\u001b[0;34m)\u001b[0m\u001b[0;34m\u001b[0m\u001b[0;34m\u001b[0m\u001b[0m\n\u001b[0m\u001b[1;32m     89\u001b[0m         if (self._delta_t_batch > 0. and\n\u001b[1;32m     90\u001b[0m            \u001b[0mdelta_t_median\u001b[0m \u001b[0;34m>\u001b[0m \u001b[0;36m0.95\u001b[0m \u001b[0;34m*\u001b[0m \u001b[0mself\u001b[0m\u001b[0;34m.\u001b[0m\u001b[0m_delta_t_batch\u001b[0m \u001b[0;32mand\u001b[0m\u001b[0;34m\u001b[0m\u001b[0;34m\u001b[0m\u001b[0m\n",
      "\u001b[0;32m<__array_function__ internals>\u001b[0m in \u001b[0;36mmedian\u001b[0;34m(*args, **kwargs)\u001b[0m\n",
      "\u001b[0;32m/home/annareisz/.local/lib/python3.7/site-packages/numpy/lib/function_base.py\u001b[0m in \u001b[0;36mmedian\u001b[0;34m(a, axis, out, overwrite_input, keepdims)\u001b[0m\n\u001b[1;32m   3493\u001b[0m     \"\"\"\n\u001b[1;32m   3494\u001b[0m     r, k = _ureduce(a, func=_median, axis=axis, out=out,\n\u001b[0;32m-> 3495\u001b[0;31m                     overwrite_input=overwrite_input)\n\u001b[0m\u001b[1;32m   3496\u001b[0m     \u001b[0;32mif\u001b[0m \u001b[0mkeepdims\u001b[0m\u001b[0;34m:\u001b[0m\u001b[0;34m\u001b[0m\u001b[0;34m\u001b[0m\u001b[0m\n\u001b[1;32m   3497\u001b[0m         \u001b[0;32mreturn\u001b[0m \u001b[0mr\u001b[0m\u001b[0;34m.\u001b[0m\u001b[0mreshape\u001b[0m\u001b[0;34m(\u001b[0m\u001b[0mk\u001b[0m\u001b[0;34m)\u001b[0m\u001b[0;34m\u001b[0m\u001b[0;34m\u001b[0m\u001b[0m\n",
      "\u001b[0;32m/home/annareisz/.local/lib/python3.7/site-packages/numpy/lib/function_base.py\u001b[0m in \u001b[0;36m_ureduce\u001b[0;34m(a, func, **kwargs)\u001b[0m\n\u001b[1;32m   3376\u001b[0m \u001b[0;34m\u001b[0m\u001b[0m\n\u001b[1;32m   3377\u001b[0m     \"\"\"\n\u001b[0;32m-> 3378\u001b[0;31m     \u001b[0ma\u001b[0m \u001b[0;34m=\u001b[0m \u001b[0mnp\u001b[0m\u001b[0;34m.\u001b[0m\u001b[0masanyarray\u001b[0m\u001b[0;34m(\u001b[0m\u001b[0ma\u001b[0m\u001b[0;34m)\u001b[0m\u001b[0;34m\u001b[0m\u001b[0;34m\u001b[0m\u001b[0m\n\u001b[0m\u001b[1;32m   3379\u001b[0m     \u001b[0maxis\u001b[0m \u001b[0;34m=\u001b[0m \u001b[0mkwargs\u001b[0m\u001b[0;34m.\u001b[0m\u001b[0mget\u001b[0m\u001b[0;34m(\u001b[0m\u001b[0;34m'axis'\u001b[0m\u001b[0;34m,\u001b[0m \u001b[0;32mNone\u001b[0m\u001b[0;34m)\u001b[0m\u001b[0;34m\u001b[0m\u001b[0;34m\u001b[0m\u001b[0m\n\u001b[1;32m   3380\u001b[0m     \u001b[0;32mif\u001b[0m \u001b[0maxis\u001b[0m \u001b[0;32mis\u001b[0m \u001b[0;32mnot\u001b[0m \u001b[0;32mNone\u001b[0m\u001b[0;34m:\u001b[0m\u001b[0;34m\u001b[0m\u001b[0;34m\u001b[0m\u001b[0m\n",
      "\u001b[0;32m/home/annareisz/.local/lib/python3.7/site-packages/numpy/core/_asarray.py\u001b[0m in \u001b[0;36masanyarray\u001b[0;34m(a, dtype, order)\u001b[0m\n\u001b[1;32m     86\u001b[0m \u001b[0;34m\u001b[0m\u001b[0m\n\u001b[1;32m     87\u001b[0m \u001b[0;34m\u001b[0m\u001b[0m\n\u001b[0;32m---> 88\u001b[0;31m \u001b[0;34m@\u001b[0m\u001b[0mset_module\u001b[0m\u001b[0;34m(\u001b[0m\u001b[0;34m'numpy'\u001b[0m\u001b[0;34m)\u001b[0m\u001b[0;34m\u001b[0m\u001b[0;34m\u001b[0m\u001b[0m\n\u001b[0m\u001b[1;32m     89\u001b[0m \u001b[0;32mdef\u001b[0m \u001b[0masanyarray\u001b[0m\u001b[0;34m(\u001b[0m\u001b[0ma\u001b[0m\u001b[0;34m,\u001b[0m \u001b[0mdtype\u001b[0m\u001b[0;34m=\u001b[0m\u001b[0;32mNone\u001b[0m\u001b[0;34m,\u001b[0m \u001b[0morder\u001b[0m\u001b[0;34m=\u001b[0m\u001b[0;32mNone\u001b[0m\u001b[0;34m)\u001b[0m\u001b[0;34m:\u001b[0m\u001b[0;34m\u001b[0m\u001b[0;34m\u001b[0m\u001b[0m\n\u001b[1;32m     90\u001b[0m     \"\"\"Convert the input to an ndarray, but pass ndarray subclasses through.\n",
      "\u001b[0;31mKeyboardInterrupt\u001b[0m: "
     ]
    }
   ],
   "source": [
    "models2 = {'neurons_layer1': [], 'neurons_layer2': [], 'k': [], 'error': []}\n",
    "\n",
    "es = EarlyStopping(monitor='val_loss', mode='min', min_delta = 0.001, patience = 10, verbose=0)\n",
    "\n",
    "for n1 in [2, 4, 8, 16, 32, 64, 128, 256, 564]:\n",
    "    for n2 in [2, 4, 8, 16, 32, 64, 128, 256, 564]:\n",
    "\n",
    "        k = 0\n",
    "        for train_index,test_index in KFold(5).split(X):\n",
    "\n",
    "            X_train, X_valid = X[train_index], X[test_index]\n",
    "            y_train, y_valid = y[train_index], y[test_index]\n",
    "\n",
    "            model1 = Sequential([\n",
    "                Dense(n1, activation = 'relu', kernel_initializer='he_normal'),\n",
    "                Dense(n2, activation = 'relu', kernel_initializer='he_normal'),\n",
    "                Dense(1, activation = 'linear', kernel_initializer='he_normal') \n",
    "            ])\n",
    "            model1.compile(loss = 'mean_squared_error', optimizer = 'adam')\n",
    "\n",
    "            history = model1.fit(X_train, y_train, validation_data = (X_valid, y_valid), \n",
    "                                 epochs = 1000, batch_size = 500, verbose=0, callbacks = [es])\n",
    "\n",
    "            #print(n1, n2, k, history.history['val_loss'][-1])\n",
    "            models2['neurons_layer1'].append(n1)\n",
    "            models2['neurons_layer2'].append(n2)\n",
    "            models2['k'].append(k)\n",
    "            models2['error'].append(history.history['val_loss'][-1])\n",
    "\n",
    "            k += 1\n",
    "\n",
    "        #print()\n",
    "    \n",
    "models2 = pd.DataFrame(models2)"
   ]
  },
  {
   "cell_type": "code",
   "execution_count": null,
   "metadata": {},
   "outputs": [],
   "source": [
    "models2"
   ]
  },
  {
   "cell_type": "code",
   "execution_count": null,
   "metadata": {},
   "outputs": [],
   "source": [
    "import pickle\n",
    "pickle.dump(models2, open(\"models2\", \"wb\"))"
   ]
  },
  {
   "cell_type": "code",
   "execution_count": null,
   "metadata": {},
   "outputs": [],
   "source": []
  },
  {
   "cell_type": "code",
   "execution_count": null,
   "metadata": {},
   "outputs": [],
   "source": [
    "X_test[34]"
   ]
  },
  {
   "cell_type": "code",
   "execution_count": null,
   "metadata": {},
   "outputs": [],
   "source": []
  }
 ],
 "metadata": {
  "kernelspec": {
   "display_name": "Python 3",
   "language": "python",
   "name": "python3"
  },
  "language_info": {
   "codemirror_mode": {
    "name": "ipython",
    "version": 3
   },
   "file_extension": ".py",
   "mimetype": "text/x-python",
   "name": "python",
   "nbconvert_exporter": "python",
   "pygments_lexer": "ipython3",
   "version": "3.7.5"
  }
 },
 "nbformat": 4,
 "nbformat_minor": 2
}
